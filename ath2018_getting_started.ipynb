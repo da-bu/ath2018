{
 "cells": [
  {
   "cell_type": "markdown",
   "metadata": {
    "collapsed": true,
    "deletable": true,
    "editable": true
   },
   "source": [
    "# ATH 2018: Test Your Setup\n",
    "\n",
    "Run the cell below. You should not get any error message (but you can ignore any \"UserWarnings\"). In particular, there should not be any messages about missing modules or packages. Running the cell might take several seconds. Once completed, it should print \"Hello World! :)\" below the cell.\n",
    "\n",
    "To install missing packages and assuming you have Anaconda, open a console and run: **conda install packagename**\n",
    "\n",
    "Also see the setup instructions document."
   ]
  },
  {
   "cell_type": "code",
   "execution_count": 1,
   "metadata": {
    "collapsed": false,
    "deletable": true,
    "editable": true
   },
   "outputs": [
    {
     "data": {
      "text/html": [
       "<style>\n",
       "\t.img_container {\n",
       "\t\tfont-weight: bold; \n",
       "\t\ttext-align: center; \n",
       "\t\tmargin: 2em auto; \n",
       "\t}\n",
       "\t.img_container img {\n",
       "\t\tmax-width: 600px\n",
       "\t}\n",
       "</style>"
      ],
      "text/plain": [
       "<IPython.core.display.HTML object>"
      ]
     },
     "metadata": {},
     "output_type": "display_data"
    },
    {
     "data": {
      "image/png": "[encoded data removed]",
      "text/plain": [
       "<matplotlib.figure.Figure at 0xb1cb4a8>"
      ]
     },
     "metadata": {},
     "output_type": "display_data"
    },
    {
     "name": "stdout",
     "output_type": "stream",
     "text": [
      "Hello World! :)\n"
     ]
    }
   ],
   "source": [
    "%load_ext autoreload\n",
    "%matplotlib inline\n",
    "from IPython.core.display import display, HTML\n",
    "display(HTML(open('css/notebook.html').read()))\n",
    "import numpy as np\n",
    "import pandas as pd\n",
    "import matplotlib.pyplot as plt\n",
    "import seaborn as sns\n",
    "import itertools\n",
    "import math\n",
    "import random\n",
    "import scipy\n",
    "from touchML.models.GPOffsetModel import GPOffsetModel\n",
    "from notebook_code.keyboard_optimisation import create_key_locations, plot_keyboard, wpm\n",
    "sns.set_context('notebook')\n",
    "\n",
    "plt.figure()\n",
    "plt.title('A test figure with random points')\n",
    "plt.scatter(np.random.random(100), np.random.random(100))\n",
    "plt.show()\n",
    "print 'Hello World! :)'"
   ]
  },
  {
   "cell_type": "markdown",
   "metadata": {
    "deletable": true,
    "editable": true
   },
   "source": [
    "Feedback or comments? I'd love to hear from you! Get in touch at: daniel.buschek@ifi.lmu.de\n"
   ]
  }
 ],
 "metadata": {
  "anaconda-cloud": {},
  "kernelspec": {
   "display_name": "Python 2",
   "language": "python",
   "name": "python2"
  },
  "language_info": {
   "codemirror_mode": {
    "name": "ipython",
    "version": 2
   },
   "file_extension": ".py",
   "mimetype": "text/x-python",
   "name": "python",
   "nbconvert_exporter": "python",
   "pygments_lexer": "ipython2",
   "version": "2.7.11"
  }
 },
 "nbformat": 4,
 "nbformat_minor": 0
}
