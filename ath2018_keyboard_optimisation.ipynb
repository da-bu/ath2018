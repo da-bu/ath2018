{
 "cells": [
  {
   "cell_type": "markdown",
   "metadata": {
    "collapsed": true,
    "deletable": true,
    "editable": true
   },
   "source": [
    "<div class=\"header\" style=\"background-image: url('img/keyboard_opti_header.jpg');  background-position: right; width: 100%; height: 110px\">\n",
    "</div>\n",
    "\n",
    "\n",
    "# ATH 2018: Keyboard Optimisation\n",
    "\n",
    "\n",
    "In this notebook we learn about optimisation methods in HCI by applying them to a classic optimisation problem: keyboard layouting. We use this example to learn about the following aspects of computational interface design:\n",
    "1. Formulating an HCI design problem as an optimisation problem.\n",
    "2. Creating an appropriate objective function for our design goals.\n",
    "3. Creating an optimiser to search the design space for a better design.\n",
    "\n",
    "The figure shows the overall approach:\n",
    "\n",
    "<div class=\"img_container\" style=\"font-weight: bold; text-align: center; margin: 2em auto; max-width: 600px\">\n",
    "<img src=\"img/design_optimisation.png\" style=\"padding-bottom: 1em; max-width: 600px\"/>\n",
    "User interface design as an optimisation problem. Given an objective function and task-specific parameters, an optimiser generates and evaluates designs from a design space to find a good or optimal design.\n",
    "</div>\n",
    "\n",
    "\n",
    "## Your task: beat QWERTY\n",
    "You're most likely familiar with the QWERTY/QWERTZ layout. Using optimisation methods, you will design your own (even faster) layout.\n",
    "\n",
    "We tackle this problem in two steps:\n",
    "\n",
    "1. First, we formulate an appropriate **objective function**, including a model for estimating user performance. This allows us to estimate how fast users may type with a given keyboard layout (i.e. how \"good\" the layout is).\n",
    "\n",
    "2. Second, we implement an **optimisation algorithm** that uses the objective function to find a good keyboard layout.\n"
   ]
  },
  {
   "cell_type": "markdown",
   "metadata": {
    "deletable": true,
    "editable": true
   },
   "source": [
    "# Setup\n",
    "\n",
    "We first import packages and setup useful methods and variables."
   ]
  },
  {
   "cell_type": "code",
   "execution_count": 1,
   "metadata": {
    "collapsed": false,
    "deletable": true,
    "editable": true
   },
   "outputs": [
    {
     "data": {
      "text/html": [
       "<style>\n",
       "\t.img_container {\n",
       "\t\tfont-weight: bold; \n",
       "\t\ttext-align: center; \n",
       "\t\tmargin: 2em auto; \n",
       "\t}\n",
       "\t.img_container img {\n",
       "\t\tmax-width: 600px\n",
       "\t}\n",
       "</style>"
      ],
      "text/plain": [
       "<IPython.core.display.HTML object>"
      ]
     },
     "metadata": {},
     "output_type": "display_data"
    }
   ],
   "source": [
    "%load_ext autoreload\n",
    "%matplotlib inline\n",
    "from IPython.core.display import display, HTML\n",
    "display(HTML(open('css/notebook.html').read()))\n",
    "import numpy as np\n",
    "import pandas as pd\n",
    "import matplotlib.pyplot as plt\n",
    "import seaborn as sns\n",
    "import itertools\n",
    "import math\n",
    "import random\n",
    "sns.set_context('notebook')"
   ]
  },
  {
   "cell_type": "code",
   "execution_count": 2,
   "metadata": {
    "collapsed": false,
    "deletable": true,
    "editable": true
   },
   "outputs": [],
   "source": [
    "# Import methods for:\n",
    "# - creating the key locations (Android-style keyboard)\n",
    "# - plotting the keyboard\n",
    "# - computing the distance between two keys\n",
    "# - computing words per minute from the mean inter keypress time\n",
    "from notebook_code.keyboard_optimisation import create_key_locations, plot_keyboard, wpm"
   ]
  },
  {
   "cell_type": "code",
   "execution_count": 4,
   "metadata": {
    "collapsed": false,
    "deletable": true,
    "editable": true
   },
   "outputs": [
    {
     "name": "stdout",
     "output_type": "stream",
     "text": [
      "['a', 'b', 'c', 'd', 'e', 'f', 'g', 'h', 'i', 'j', 'k', 'l', 'm', 'n', 'o', 'p', 'q', 'r', 's', 't', 'u', 'v', 'w', 'x', 'y', 'z']\n"
     ]
    }
   ],
   "source": [
    "# The character we want to assign to the keys (we limit this example to the alphabet; no numbers etc.):\n",
    "characters = [c for c in 'abcdefghijklmnopqrstuvwxyz']\n",
    "print characters"
   ]
  },
  {
   "cell_type": "code",
   "execution_count": 7,
   "metadata": {
    "collapsed": false,
    "deletable": true,
    "editable": true
   },
   "outputs": [],
   "source": [
    "# The key locations:\n",
    "key_locations = create_key_locations(key_w=1, key_h=1.5)\n",
    "#print key_locations"
   ]
  },
  {
   "cell_type": "code",
   "execution_count": 8,
   "metadata": {
    "collapsed": false,
    "deletable": true,
    "editable": true
   },
   "outputs": [
    {
     "data": {
      "image/png": "[encoded data removed]",
      "text/plain": [
       "<matplotlib.figure.Figure at 0xb7f3cf8>"
      ]
     },
     "metadata": {},
     "output_type": "display_data"
    }
   ],
   "source": [
    "# As an example, we plot the QWERTY layout:\n",
    "qwerty = [c for c in 'qwertyuiopasdfghjklzxcvbnm']\n",
    "plot_keyboard(qwerty, key_locations, title='QWERTY')"
   ]
  },
  {
   "cell_type": "markdown",
   "metadata": {
    "deletable": true,
    "editable": true
   },
   "source": [
    "# Objective function component 1: Finger movement model\n",
    "\n",
    "When typing, we move fingers from one key to another. Here, we only look at typing with a single finger. This is a simplified but realistic case, for example when typing with the thumb or index finger on a smartphone.\n",
    "\n",
    "## Fitts' law\n",
    "\n",
    "To model finger movement times we use a famous model in HCI, Fitts' law:\n",
    "$$MT = a + b \\log_2{\\left(\\frac{D}{W}+1\\right)}$$\n",
    "\n",
    "It predicts the movement time $MT$ given the distance $D$ and target width $W$. The parameters $a$ and $b$ describe the relationship between the index of difficulty (the log term) and the movement time. Hence, Fitts' law intuitively models that hitting smaller targets at larger distances takes more time. Note that there are many variations and extensions of this law, so you might have come across slightly different formulations.\n",
    "\n",
    "The parameter values for $a$ and $b$ are taken from the following paper, as well as the special case $a_{rep}$ when double-tapping the same key: <br/>\n",
    "*Zhai, S., Hunter, M., & Smith, B. A. (2000). The metropolis keyboard - an exploration of quantitative techniques for virtual keyboard design. In Proceedings of the 13th annual ACM symposium on User interface software and technology (pp. 119–128). http://doi.org/10.1145/354401.354424*\n",
    "\n",
    "\n",
    "<p>\n",
    "<div class=\"alert alert-block alert-success\"> \n",
    "<h3>Exercise: Implement Fitts' law</h3> \n",
    "<br>\n",
    "Implement Fitts' law by completing the code in the cell below. Use $a_{rep}$ instead of $a$ for the case of a double tap at the same key.</div>\n",
    "</p>\n",
    "\n",
    "Note that is a good example of how you can make direct use of models published in previous work as building blocks for your own optimisation."
   ]
  },
  {
   "cell_type": "code",
   "execution_count": 10,
   "metadata": {
    "collapsed": true,
    "deletable": true,
    "editable": true
   },
   "outputs": [],
   "source": [
    "def movement_time_from_key_to_key(i, j, D, W=1, a=0, b=0.204, arep=0.127):  \n",
    "    mt = 0\n",
    "    if i == j: # double tap on same key\n",
    "        # TODO: implement Fitts' law for the double tap case\n",
    "        mt = arep + b * math.log(D/W + 1, 2)\n",
    "    else: # move from key i to key j\n",
    "        # TODO: immplement Fitts' law\n",
    "        mt = a + b * math.log(D/W + 1, 2)\n",
    "    return mt"
   ]
  },
  {
   "cell_type": "markdown",
   "metadata": {
    "deletable": true,
    "editable": true
   },
   "source": [
    "# Objective function component 2: Language model\n",
    "\n",
    "Not every key is equally important, since natural languages use certain characters much more often than others. For example, the transition from key \"t\" to key \"h\" is very common in English, while a move like \"c\" to \"x\" will almost never occur at all.\n",
    "\n",
    "We make use of these language properties by weighting the movement cost of each key-to-key transition by the relative frequency of the character combination of those two keys.\n",
    "\n",
    "To do so, we use bigram frequencies taken from:\n",
    "https://gist.github.com/lydell/c439049abac2c9226e53#file-bigrams-json"
   ]
  },
  {
   "cell_type": "code",
   "execution_count": 11,
   "metadata": {
    "collapsed": false,
    "deletable": true,
    "editable": true
   },
   "outputs": [],
   "source": [
    "def create_bigram_language_model(text_file):\n",
    "    bigram_data = pd.read_csv(text_file)\n",
    "    language_model = {}\n",
    "    total = 0\n",
    "    for _, row in bigram_data.iterrows():\n",
    "        language_model[row.bigram] = row.frequency\n",
    "        total += row.frequency\n",
    "    for key in language_model.iterkeys():\n",
    "        language_model[key] /= total * 1.0\n",
    "    return language_model"
   ]
  },
  {
   "cell_type": "code",
   "execution_count": 12,
   "metadata": {
    "collapsed": false,
    "deletable": true,
    "editable": true
   },
   "outputs": [],
   "source": [
    "language_model = create_bigram_language_model('data/bigrams.csv')"
   ]
  },
  {
   "cell_type": "code",
   "execution_count": 13,
   "metadata": {
    "collapsed": false,
    "deletable": true,
    "editable": true
   },
   "outputs": [
    {
     "name": "stdout",
     "output_type": "stream",
     "text": [
      "th: 0.0357629921884\n",
      "ql: 2.39277918371e-06\n"
     ]
    }
   ],
   "source": [
    "# Print some examples of what the model has learned:\n",
    "print 'th:', language_model['th'] # a common bigram -> should be a rather high value\n",
    "print 'ql:', language_model['ql'] # a rare bigram -> should be a tiny value"
   ]
  },
  {
   "cell_type": "markdown",
   "metadata": {
    "deletable": true,
    "editable": true
   },
   "source": [
    "# Objective function\n",
    "\n",
    "We now have the two components for our objective function: 1) the movement model, and 2) the frequency of said movements considering the language.\n",
    "\n",
    "<p>\n",
    "<div class=\"alert alert-block alert-success\"> \n",
    "<h3>Exercise: Implement the objective function</h3> \n",
    "<br>\n",
    "Complete the code in the cell below to implement an objective function that returns the estimated average time between two key presses. Consider the movement times of all possible movements, each weighted by the bigram frequency for that character pair.</div>\n",
    "</p>"
   ]
  },
  {
   "cell_type": "code",
   "execution_count": 14,
   "metadata": {
    "collapsed": false,
    "deletable": true,
    "editable": true
   },
   "outputs": [],
   "source": [
    "# Measures the euclidean distance between two key locations:\n",
    "def distance(key_location, key_location2):\n",
    "    x,y = key_location\n",
    "    x2,y2 = key_location2\n",
    "    return np.sqrt((x-x2)**2 + (y-y2)**2)\n",
    "\n",
    "# Objective function: returns the estimated average time between two key presses for the given layout:\n",
    "def objective_function(layout, key_locations, language_model):\n",
    "    objective_value = 0\n",
    "    for i, character in enumerate(layout):\n",
    "        for j, character2 in enumerate(layout):\n",
    "            frequency = language_model[character+character2]# TODO: lookup frequency of this bigram in language model\n",
    "            key_distance = distance(key_locations[i], key_locations[j])# TODO: compute the distance of the two key locations\n",
    "            movement_time = movement_time_from_key_to_key(i, j, key_distance)# TODO: compute the movement time using Fitts' Law\n",
    "            objective_value += frequency * movement_time # TODO: update objective value\n",
    "    return objective_value"
   ]
  },
  {
   "cell_type": "markdown",
   "metadata": {
    "deletable": true,
    "editable": true
   },
   "source": [
    "# Optimisation\n",
    "\n",
    "With our objective function in place we now turn to the optimisation process."
   ]
  },
  {
   "cell_type": "markdown",
   "metadata": {
    "deletable": true,
    "editable": true
   },
   "source": [
    "## Baseline: QWERTY\n",
    "\n",
    "Let's check how good the QWERTY layout is according to our objective function. We use this as a baseline: Can you find a faster layout?"
   ]
  },
  {
   "cell_type": "code",
   "execution_count": 15,
   "metadata": {
    "collapsed": false,
    "deletable": true,
    "editable": true
   },
   "outputs": [
    {
     "name": "stdout",
     "output_type": "stream",
     "text": [
      "28.43 words per minute (WPM) with the QWERTY layout.\n"
     ]
    }
   ],
   "source": [
    "%autoreload 2\n",
    "qwerty_ov = objective_function(qwerty, key_locations, language_model)\n",
    "qwerty_wpm = wpm(qwerty_ov)\n",
    "print '%.2f words per minute (WPM) with the QWERTY layout.' % qwerty_wpm"
   ]
  },
  {
   "cell_type": "markdown",
   "metadata": {
    "deletable": true,
    "editable": true
   },
   "source": [
    "## A simple optimiser: Random search\n",
    "\n",
    "A very simple optimisation procedure is one that just generates random layouts in the hope of finding a better one. This idea is called \"random search\".\n",
    "\n",
    "<p>\n",
    "<div class=\"alert alert-block alert-success\"> \n",
    "<h3>Exercise: Implement a random search optimiser</h3> \n",
    "<br>\n",
    "Complete the code in the cell below to implement a random search optimiser. Hint: <a href=\"https://docs.python.org/2/library/random.html#random.sample\">random.sample(list, length)</a> is a useful function for shuffling lists. \n",
    "</div>\n",
    "</p>"
   ]
  },
  {
   "cell_type": "code",
   "execution_count": 16,
   "metadata": {
    "collapsed": false,
    "deletable": true,
    "editable": true
   },
   "outputs": [],
   "source": [
    "def random_search_optimiser(objective_function, layout, key_locations, language_model, max_iterations=1000):\n",
    "    \n",
    "    best_layout = layout\n",
    "    best_objective_value = objective_function(layout, key_locations, language_model)\n",
    "    \n",
    "    for iteration in range(max_iterations):\n",
    "        \n",
    "        # Try out a new random layout:\n",
    "        candidate = random.sample(layout, len(layout))# TODO: choose a random layout\n",
    "        candidate_objective_value = objective_function(candidate, key_locations, language_model)# TODO: evaluate the candidate with the objective function\n",
    "        \n",
    "        # If we found a better layout than the best one so far, save it as the new best one:\n",
    "        # TODO: implement updating the best layout/value\n",
    "        if candidate_objective_value > best_objective_value:\n",
    "            best_layout = candidate\n",
    "            best_objective_value = candidate_objective_value\n",
    "            \n",
    "    return best_layout, best_objective_value"
   ]
  },
  {
   "cell_type": "markdown",
   "metadata": {
    "deletable": true,
    "editable": true
   },
   "source": [
    "Now run the cell below and examine the keyboard that your random search has found. What's the predicted WPM?"
   ]
  },
  {
   "cell_type": "code",
   "execution_count": 21,
   "metadata": {
    "collapsed": false,
    "deletable": true,
    "editable": true
   },
   "outputs": [
    {
     "data": {
      "image/png": "[encoded data removed]",
      "text/plain": [
       "<matplotlib.figure.Figure at 0xcbdca20>"
      ]
     },
     "metadata": {},
     "output_type": "display_data"
    }
   ],
   "source": [
    "best_layout, best_ov = random_search_optimiser(\n",
    "    objective_function, qwerty, key_locations, language_model, max_iterations=1000)\n",
    "plot_keyboard(best_layout, key_locations, 'WPM: %.2f' % wpm(best_ov))"
   ]
  },
  {
   "cell_type": "code",
   "execution_count": null,
   "metadata": {
    "collapsed": true
   },
   "outputs": [],
   "source": []
  },
  {
   "cell_type": "markdown",
   "metadata": {
    "deletable": true,
    "editable": true
   },
   "source": [
    "## Meta-heuristics: Simulated Annealing\n",
    "\n",
    "Random search is limited. More effective and efficient methods use various **search heuristics**. Heuristics are still basically trial-and-error, but they try to implement a clever strategy instead of random choice. Many heuristics are inspired by natural processes or behaviour of animals. They model some tradeoff between **exploration** (try radically different designs) and **exploitation** (find the very best design). \n",
    "\n",
    "You can read more on these methods here: http://www.scholarpedia.org/article/Metaheuristic_Optimization\n",
    "\n",
    "Here we take a look at one such method called **\"Simulated Annealing\"**. It is based on the process of shaping hot metals, which become less and less flexible as they cool down. Metaphorically, this optimisation procedure is also more flexible at the beginning (exploration), but focusses more and more on a specific area of the search space over time (exploitation).\n",
    "\n",
    "<div class=\"img_container\" style=\"font-weight: bold; text-align: center; margin: 2em auto\">\n",
    "<img src=\"img/annealing.jpg\" style=\"max-width: 600px\"/>\n",
    "An iron smith shapes hot metal as HCI students shape future user interfaces. Image by <a href=\"https://flic.kr/p/5JXMsY\">my_amii</a>, <a href=\"https://creativecommons.org/licenses/by-nc/2.0/\">cc</a>.\n",
    "</div>"
   ]
  },
  {
   "cell_type": "markdown",
   "metadata": {
    "deletable": true,
    "editable": true
   },
   "source": [
    "<div class=\"alert alert-block alert-success\"> \n",
    "<h3>Exercise: Implement Simulated Annealing</h3> \n",
    "<p>\n",
    "Complete the code in the cell below to implement a Simulated Annealing optimiser. \n",
    "</p>\n",
    "\n",
    "<p>\n",
    "<h4>Step 1: Generating neighbour designs</h4>\n",
    "First, generate a random neighbour design of the current layout. Layouts are \"neighbours\" if they only differ by one swap of keys. Use the provided swap_random_keys method. \n",
    "</p>\n",
    "\n",
    "<p>\n",
    "<h4>Step 2: Acceptance rule</h4>\n",
    "Implement the following rule for accepting a candidate layout:\n",
    "<ol>\n",
    "<li>Accept the candidate layout if it is better than the current best layout.</li>\n",
    "<li>Also accept a worse candidate layout with a chance $p$ based on the current \"temperature\": $p=\\exp{\\left(-\\frac{\\Delta E}{T}\\right)}$ where $\\Delta E$ is the difference of the objective value between the candidate layout and the best layout.</li>\n",
    "</ol>\n",
    "</p>\n",
    "<p>\n",
    "Some useful functions: you can use math.exp(x) for the exponential; random.random() generates a random number between 0 and 1,\n",
    "</p>\n",
    "</div>\n"
   ]
  },
  {
   "cell_type": "code",
   "execution_count": 23,
   "metadata": {
    "collapsed": false,
    "deletable": true,
    "editable": true
   },
   "outputs": [],
   "source": [
    "# Returns a layout that is the same as the given one, apart from swapping two random keys:\n",
    "def swap_random_keys(layout):\n",
    "    layout = layout[:] # copy array\n",
    "    i, j = np.random.choice(np.arange(len(layout)), size=2, replace=False)\n",
    "    layout[i], layout[j] = layout[j], layout[i]\n",
    "    return layout\n",
    "\n",
    "def simulated_annealing_optimiser(objective_function, layout, key_locations, language_model, max_iterations=1000):\n",
    "    \n",
    "    # Hyperparameters of the optimiser:\n",
    "    T_min = 0.0000001 # minimum temperature\n",
    "    T_initial = 10000 # initial temperature\n",
    "    alpha = 0.95 # cooling factor\n",
    "    \n",
    "    best_layout = layout\n",
    "    best_objective_value = objective_function(layout, key_locations, language_model)\n",
    "    \n",
    "    for iteration in range(max_iterations):\n",
    "        \n",
    "        # Cooling down: update the current temperature\n",
    "        T = max(T_min, T_initial * math.pow(alpha, iteration)) \n",
    "        \n",
    "        # Step 1 - Generate a neighbour design by swapping one key:\n",
    "        candidate = swap_random_keys(best_layout) # TODO\n",
    "        candidate_objective_value = objective_function(candidate, key_locations, language_model)\n",
    "        \n",
    "        # Step 2 - Check if the candidate is better or if it is accepted by chance, based on the temperature:\n",
    "        # TODO:\n",
    "        delta = candidate_objective_value - best_objective_value\n",
    "        if delta < 0 or random.random() < math.exp(-delta/T):\n",
    "            best_layout = candidate\n",
    "            best_objective_value = candidate_objective_value\n",
    "            \n",
    "    return best_layout, best_objective_value"
   ]
  },
  {
   "cell_type": "markdown",
   "metadata": {
    "deletable": true,
    "editable": true
   },
   "source": [
    "Now run the cell below and examine the keyboard that your Simulated Annealing optimiser has found."
   ]
  },
  {
   "cell_type": "code",
   "execution_count": 29,
   "metadata": {
    "collapsed": false,
    "deletable": true,
    "editable": true
   },
   "outputs": [
    {
     "data": {
      "image/png": "[encoded data removed]",
      "text/plain": [
       "<matplotlib.figure.Figure at 0xcabda58>"
      ]
     },
     "metadata": {},
     "output_type": "display_data"
    }
   ],
   "source": [
    "best_layout, best_ov = simulated_annealing_optimiser(\n",
    "    objective_function, characters, key_locations, language_model, max_iterations=1000)\n",
    "plot_keyboard(best_layout, key_locations, 'WPM: %.2f' % wpm(best_ov))"
   ]
  },
  {
   "cell_type": "markdown",
   "metadata": {
    "deletable": true,
    "editable": true
   },
   "source": [
    "<div class=\"alert alert-block alert-info\"> \n",
    "<h1>Discussion: Ideas for further improvements</h1>\n",
    "<br/>\n",
    "What's the predicted WPM now? Compare your results to random search. How could we improve this further?\n",
    "</div>"
   ]
  },
  {
   "cell_type": "markdown",
   "metadata": {
    "deletable": true,
    "editable": true
   },
   "source": [
    "# A new objective: layouts for one handed use of large mobile devices\n",
    "\n",
    "Let us consider a different design objective now: **optimising the layout for typing with the right thumb** on a large smartphone or \"phablet\". This is a common hand posture used for typing on smartphones in everyday life, where just one hand might be free for interaction (e.g. while carrying groceries). However, on large screens reaching some keys may require shifting the grasp, which takes time and risks loosing the grip on the device.\n",
    "\n",
    "In the cell below, we set up a slightly different objective function to address this task: It considers movement time and bigram frequency as before, but now also takes into account the **distance of each key to the bottom right corner**. This implements the intuitive idea of **minimising \"thumb stretch time\"** when typing with the right hand thumb.\n",
    "\n",
    "Note that this is a simplified example, not entirely in line with [thumb ergonomics](http://users.comnet.aalto.fi/oulasvir/pubs/paper2117.pdf)."
   ]
  },
  {
   "cell_type": "code",
   "execution_count": 30,
   "metadata": {
    "collapsed": false,
    "deletable": true,
    "editable": true
   },
   "outputs": [],
   "source": [
    "# Measures the euclidean distance between two key locations:\n",
    "def distance_to_thumb_rest(key_location, thumb_rest_location):\n",
    "    x,y = key_location\n",
    "    x2,y2 = thumb_rest_location\n",
    "    return np.sqrt((x-x2)**2 + (y-y2)**2)\n",
    "\n",
    "# Objective function: returns the estimated average time between two key presses for the given layout:\n",
    "def objective_function_thumb(layout, key_locations, language_model):\n",
    "      \n",
    "    # keyboard corners (if you have not changed the key size):\n",
    "    # top left: 0,0 | top right: 9,0 \n",
    "    # bottom left: 0,3 | bottom right: 9,3\n",
    "    thumb_rest_location = [0,3]\n",
    "    \n",
    "    \n",
    "    objective_value = 0\n",
    "    for i, character in enumerate(layout):\n",
    "        thumb_stretch = distance_to_thumb_rest(key_locations[i], thumb_rest_location)\n",
    "        thumb_stretch_time = movement_time_from_key_to_key(0,1, thumb_stretch)\n",
    "        for j, character2 in enumerate(layout):\n",
    "            frequency = language_model[character+character2]\n",
    "            key_distance = distance(key_locations[i], key_locations[j])\n",
    "            movement_time = movement_time_from_key_to_key(i, j, key_distance)    \n",
    "            objective_value += frequency * (movement_time + thumb_stretch_time)\n",
    "    return objective_value"
   ]
  },
  {
   "cell_type": "markdown",
   "metadata": {
    "deletable": true,
    "editable": true
   },
   "source": [
    "Now run the cell below:"
   ]
  },
  {
   "cell_type": "code",
   "execution_count": 31,
   "metadata": {
    "collapsed": false,
    "deletable": true,
    "editable": true
   },
   "outputs": [
    {
     "data": {
      "image/png": "[encoded data removed]",
      "text/plain": [
       "<matplotlib.figure.Figure at 0xd154b00>"
      ]
     },
     "metadata": {},
     "output_type": "display_data"
    }
   ],
   "source": [
    "best_layout, best_ov = simulated_annealing_optimiser(\n",
    "    objective_function_thumb, characters, key_locations, language_model, max_iterations=1000)\n",
    "\n",
    "# We need to measure speed with the old objective function, \n",
    "# since the new one does not return the average time between two key presses:\n",
    "best_layout_wpm = wpm(objective_function(best_layout, key_locations, language_model))\n",
    "plot_keyboard(best_layout, key_locations, 'WPM: %.2f' % best_layout_wpm)"
   ]
  },
  {
   "cell_type": "markdown",
   "metadata": {
    "deletable": true,
    "editable": true
   },
   "source": [
    "<div class=\"alert alert-block alert-info\"> \n",
    "<h1>Discussion: layouts for one handed use</h1>\n",
    "<br/>\n",
    "How do these new layouts differ from the other ones obtained above? Which user behaviour is implicitly modelled in the new objective function? Think beyond this illustrative example: is this a good way of dealing with reachability problems on large screens?\n",
    "<br/>\n",
    "<br/>\n",
    "**Optional**: Change the thumb's resting location in the objective function (e.g. for a left-handed user). How does that influence the layouts?\n",
    "</div>"
   ]
  },
  {
   "cell_type": "markdown",
   "metadata": {
    "deletable": true,
    "editable": true
   },
   "source": [
    "# Conclusion\n",
    "\n",
    "\n",
    "In this notebook we learned about optimisation methods in HCI by applying them to the classic problem of keyboard layouting:\n",
    "\n",
    "1. First, we formulated an **objective function**, considering finger movement times and character frequencies in the English language. This function thus estimated how fast users may type with a given keyboard layout. This was our measure of \"goodness\" for keyboard layouts\n",
    "\n",
    "2. Second, we implemented two **optimisation algorithms** that used the objective function to find a good keyboard layout. We started with a very simple approach, random search, followed by a meta-heuristic approach called Simulated Annealing. This allowed us to find a new layout that was predicted to be faster than the common QWERTY layout."
   ]
  },
  {
   "cell_type": "markdown",
   "metadata": {
    "deletable": true,
    "editable": true
   },
   "source": [
    "<div class=\"alert alert-block alert-info\"> \n",
    "<h1>Wrap-up</h1>\n",
    "<br/>\n",
    "Reflect on this session. What were the most surprising, challenging, useful or exciting things you learned? What should be changed to improve this session and notebook?\n",
    "</div>"
   ]
  },
  {
   "cell_type": "markdown",
   "metadata": {
    "deletable": true,
    "editable": true
   },
   "source": [
    "Feedback or comments? I'd love to hear from you! Get in touch at: daniel.buschek@ifi.lmu.de\n"
   ]
  }
 ],
 "metadata": {
  "anaconda-cloud": {},
  "kernelspec": {
   "display_name": "Python 2",
   "language": "python",
   "name": "python2"
  },
  "language_info": {
   "codemirror_mode": {
    "name": "ipython",
    "version": 2
   },
   "file_extension": ".py",
   "mimetype": "text/x-python",
   "name": "python",
   "nbconvert_exporter": "python",
   "pygments_lexer": "ipython2",
   "version": "2.7.11"
  }
 },
 "nbformat": 4,
 "nbformat_minor": 0
}
